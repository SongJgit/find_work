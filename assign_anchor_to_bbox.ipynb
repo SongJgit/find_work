{
 "cells": [
  {
   "cell_type": "code",
   "execution_count": 27,
   "source": [
    "'''\n",
    "Descripttion: numpy实现根据阈值给anchor分配gtbox\n",
    "version: 1.0\n",
    "Author: SongJ\n",
    "Date: 2021-09-12 22:12:42\n",
    "LastEditors: SongJ\n",
    "LastEditTime: 2021-09-12 22:22:40\n",
    "'''\n",
    "import numpy as np"
   ],
   "outputs": [],
   "metadata": {}
  },
  {
   "cell_type": "code",
   "execution_count": 28,
   "source": [
    "def box_iou(boxes1,boxes2):\n",
    "    ''' input:\n",
    "            boexs1.shape(boxes1的数量,xyxy)\n",
    "            boexs2.shape(boxes2的数量,xyxy)\n",
    "        return:\n",
    "            (boxes1的数量,boxes2的数量)\n",
    "    '''\n",
    "\n",
    "    # 计算面积,areas.shape(boxes的数量,)\n",
    "    box_area = lambda boxes : ((boxes[:,3]-boxes[:,1]) * (boxes[:,2]-boxes[:,0]))\n",
    "    areas1, areas2 = box_area(boxes1),box_area(boxes2)\n",
    "\n",
    "    #取相交部分的坐标值,利用广播机制,shape(boxes1的数量,boxes2的数量,2)\n",
    "    interuppeerleft = np.maximum(boxes1[:,None,:2],boxes2[:,:2]) # 左上角坐标\n",
    "    interlowerright = np.minimum(boxes1[:,None,2:],boxes2[:,2:]) # 右下角坐标\n",
    "\n",
    "    #计算相交部分的面积,shape(boxes1的数量,boxes2的数量,2)\n",
    "    inter = (interlowerright - interuppeerleft).clip(min=0) # 做差有负数表示不相交,直接设置为0\n",
    "    # shape(boxes1的数量,boxes2的数量)\n",
    "    interarea = inter[:,:,0] * inter[:,:,1] \n",
    "\n",
    "    # 计算并积,shape(boxes1的数量,boxes2的数量)\n",
    "    unionarea = areas1[:,None] + areas2 - interarea\n",
    "    return interarea/unionarea\n"
   ],
   "outputs": [],
   "metadata": {}
  },
  {
   "cell_type": "code",
   "execution_count": 29,
   "source": [
    "anchors = np.random.randint(1,5,(5,4))\n",
    "gt = np.random.randint(1,5,(3,4))\n"
   ],
   "outputs": [],
   "metadata": {}
  },
  {
   "cell_type": "code",
   "execution_count": 24,
   "source": [
    "def assign_anchor_to_bbox(gt, anchors, device, iou_threshold=0.5):\n",
    "    num_anchors, num_gt_boxes = anchors.shape[0], gt.shape[0]\n",
    "    # 计算iou,jaccard.shape(num_anc,num_gt)\n",
    "    jaccard = box_iou(anchors,gt)\n",
    "    # 生成一个anc长度的填充-1的数组\n",
    "    anchors_bbox_map = np.full((num_anchors,), -1, dtype=np.long)\n",
    "\n",
    "    # 计算阈值,max_iou是每行最大的iou,indices是对应的列索引\n",
    "    max_ious, indices = np.maximum(jaccard, dim=1)\n",
    "    # 取出符合阈值的anc的行索引\n",
    "    anc_i = np.nonzero(max_ious >= 0.5).reshape(-1)\n",
    "    # 取出符合阈值的anc的列索引\n",
    "    box_j = indices[max_ious > 0.5]\n",
    "    # 将gt分配给符合条件的anc\n",
    "    anchors_bbox_map[anc_i] = box_j\n",
    "    col_discard = np.full((num_anchors,), -1)\n",
    "    row_discard = np.full((num_gt_boxes,), -1)\n",
    "    "
   ],
   "outputs": [],
   "metadata": {}
  },
  {
   "cell_type": "code",
   "execution_count": 19,
   "source": [],
   "outputs": [
    {
     "output_type": "stream",
     "name": "stderr",
     "text": [
      "/home/songj/miniconda3/envs/pytorch/lib/python3.7/site-packages/ipykernel_launcher.py:20: RuntimeWarning: invalid value encountered in true_divide\n"
     ]
    }
   ],
   "metadata": {}
  },
  {
   "cell_type": "code",
   "execution_count": 20,
   "source": [
    "jaccard"
   ],
   "outputs": [
    {
     "output_type": "execute_result",
     "data": {
      "text/plain": [
       "array([[-0., -0.,  0.],\n",
       "       [ 0.,  0.,  0.],\n",
       "       [ 0., nan,  0.],\n",
       "       [ 0.,  0.,  0.],\n",
       "       [-0., -0.,  0.]])"
      ]
     },
     "metadata": {},
     "execution_count": 20
    }
   ],
   "metadata": {}
  },
  {
   "cell_type": "code",
   "execution_count": null,
   "source": [],
   "outputs": [],
   "metadata": {}
  }
 ],
 "metadata": {
  "orig_nbformat": 4,
  "language_info": {
   "name": "python",
   "version": "3.7.10",
   "mimetype": "text/x-python",
   "codemirror_mode": {
    "name": "ipython",
    "version": 3
   },
   "pygments_lexer": "ipython3",
   "nbconvert_exporter": "python",
   "file_extension": ".py"
  },
  "kernelspec": {
   "name": "python3",
   "display_name": "Python 3.7.10 64-bit ('pytorch': conda)"
  },
  "interpreter": {
   "hash": "9e70dc97bbfb2beb47a14e6ae352171ec891a43b96247de6b40b0e00535214b6"
  }
 },
 "nbformat": 4,
 "nbformat_minor": 2
}