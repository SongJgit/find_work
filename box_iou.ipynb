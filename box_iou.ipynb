{
 "cells": [
  {
   "cell_type": "code",
   "execution_count": 3,
   "source": [
    "'''\n",
    "Descripttion: numpy广播实现计算多个anchor和gtbox的iou\n",
    "version: 1.0\n",
    "Author: SongJ\n",
    "Date: 2021-09-11 09:05:17\n",
    "LastEditors: SongJ\n",
    "LastEditTime: 2021-09-12 22:23:25\n",
    "'''\n",
    "\n",
    "import numpy as np"
   ],
   "outputs": [],
   "metadata": {}
  },
  {
   "cell_type": "code",
   "execution_count": 17,
   "source": [
    "def box_iou(boxes1,boxes2):\n",
    "    # boexs1.shape(boxes1的数量,xyxy)\n",
    "    # boexs2.shape(boxes2的数量,xyxy)\n",
    "\n",
    "    # 计算面积,areas.shape(boxes的数量,)\n",
    "    box_area = lambda boxes : ((boxes[:,3]-boxes[:,1]) * (boxes[:,2]-boxes[:,0]))\n",
    "    areas1, areas2 = box_area(boxes1),box_area(boxes2)\n",
    "\n",
    "    #取相交部分的坐标值,利用广播机制,shape(boxes1的数量,boxes2的数量,2)\n",
    "    interuppeerleft = np.maximum(boxes1[:,None,:2],boxes2[:,:2]) # 左上角坐标\n",
    "    interlowerright = np.minimum(boxes1[:,None,2:],boxes2[:,2:]) # 右下角坐标\n",
    "\n",
    "    #计算相交部分的面积,shape(boxes1的数量,boxes2的数量,2)\n",
    "    inter = (interlowerright - interuppeerleft).clip(min=0) # 做差有负数表示不相交,直接设置为0\n",
    "    # shape(boxes1的数量,boxes2的数量)\n",
    "    interarea = inter[:,:,0] * inter[:,:,1] \n",
    "\n",
    "    # 计算并积,shape(boxes1的数量,boxes2的数量)\n",
    "    unionarea = areas1[:,None] + areas2 - interarea\n",
    "    return interarea/unionarea\n",
    "\n",
    "\n"
   ],
   "outputs": [],
   "metadata": {}
  },
  {
   "cell_type": "code",
   "execution_count": 3,
   "source": [
    "a = np.array([2,3])\n",
    "b = np.array([3,2])\n"
   ],
   "outputs": [],
   "metadata": {}
  },
  {
   "cell_type": "code",
   "execution_count": 4,
   "source": [
    "a[:,None] + b"
   ],
   "outputs": [
    {
     "output_type": "execute_result",
     "data": {
      "text/plain": [
       "array([[5, 4],\n",
       "       [6, 5]])"
      ]
     },
     "metadata": {},
     "execution_count": 4
    }
   ],
   "metadata": {}
  },
  {
   "cell_type": "code",
   "execution_count": 5,
   "source": [
    "a"
   ],
   "outputs": [
    {
     "output_type": "execute_result",
     "data": {
      "text/plain": [
       "array([2, 3])"
      ]
     },
     "metadata": {},
     "execution_count": 5
    }
   ],
   "metadata": {}
  },
  {
   "cell_type": "code",
   "execution_count": 19,
   "source": [
    "a = np.random.randint(1,5,[5,4])\n",
    "b = np.random.randint(1,5,[3,4])\n"
   ],
   "outputs": [
    {
     "output_type": "stream",
     "name": "stderr",
     "text": [
      "/home/songj/miniconda3/envs/pytorch/lib/python3.7/site-packages/ipykernel_launcher.py:20: RuntimeWarning: invalid value encountered in true_divide\n"
     ]
    },
    {
     "output_type": "execute_result",
     "data": {
      "text/plain": [
       "(5, 3)"
      ]
     },
     "metadata": {},
     "execution_count": 19
    }
   ],
   "metadata": {}
  },
  {
   "cell_type": "code",
   "execution_count": 20,
   "source": [
    "interuppeerleft = np.maximum(a[:,None,:2],b[:,:2]) # 左上角坐标\n",
    "interlowerright = np.minimum(a[:,None,2:],b[:,2:]) # 右下角坐标"
   ],
   "outputs": [],
   "metadata": {}
  },
  {
   "cell_type": "code",
   "execution_count": 21,
   "source": [
    "\n",
    "inter =  (interlowerright - interuppeerleft).clip(min=0)\n"
   ],
   "outputs": [],
   "metadata": {}
  },
  {
   "cell_type": "code",
   "execution_count": 23,
   "source": [
    "inter[:,:,0] * inter[:,:,1] "
   ],
   "outputs": [
    {
     "output_type": "execute_result",
     "data": {
      "text/plain": [
       "array([[0, 0, 0],\n",
       "       [0, 0, 0],\n",
       "       [0, 0, 0],\n",
       "       [0, 0, 0],\n",
       "       [0, 0, 0]])"
      ]
     },
     "metadata": {},
     "execution_count": 23
    }
   ],
   "metadata": {}
  },
  {
   "cell_type": "code",
   "execution_count": 25,
   "source": [
    "inter[:,:,0]"
   ],
   "outputs": [
    {
     "output_type": "execute_result",
     "data": {
      "text/plain": [
       "array([[0, 0, 0],\n",
       "       [0, 0, 0],\n",
       "       [0, 0, 0],\n",
       "       [0, 0, 0],\n",
       "       [0, 0, 0]])"
      ]
     },
     "metadata": {},
     "execution_count": 25
    }
   ],
   "metadata": {}
  },
  {
   "cell_type": "code",
   "execution_count": null,
   "source": [],
   "outputs": [],
   "metadata": {}
  }
 ],
 "metadata": {
  "orig_nbformat": 4,
  "language_info": {
   "name": "python",
   "version": "3.7.10",
   "mimetype": "text/x-python",
   "codemirror_mode": {
    "name": "ipython",
    "version": 3
   },
   "pygments_lexer": "ipython3",
   "nbconvert_exporter": "python",
   "file_extension": ".py"
  },
  "kernelspec": {
   "name": "python3",
   "display_name": "Python 3.7.10 64-bit ('pytorch': conda)"
  },
  "interpreter": {
   "hash": "9e70dc97bbfb2beb47a14e6ae352171ec891a43b96247de6b40b0e00535214b6"
  }
 },
 "nbformat": 4,
 "nbformat_minor": 2
}