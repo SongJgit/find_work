{
 "cells": [
  {
   "cell_type": "code",
   "execution_count": 1,
   "source": [
    "'''\n",
    "Descripttion: knn的实现\n",
    "version: 1.0\n",
    "Author: SongJ\n",
    "Date: 2021-09-24 16:10:32\n",
    "LastEditors: SongJ\n",
    "LastEditTime: 2021-09-25 20:38:24\n",
    "'''\n",
    "\n",
    "import pandas as pd\n",
    "import numpy as np\n",
    "import math"
   ],
   "outputs": [],
   "metadata": {}
  },
  {
   "cell_type": "code",
   "execution_count": 2,
   "source": [
    "movie_data = {\"宝贝当家\": [45, 2, 9, \"喜剧片\"],\n",
    "              \"美人鱼\": [21, 17, 5, \"喜剧片\"],\n",
    "              \"澳门风云3\": [54, 9, 11, \"喜剧片\"],\n",
    "              \"功夫熊猫3\": [39, 0, 31, \"喜剧片\"],\n",
    "              \"谍影重重\": [5, 2, 57, \"动作片\"],\n",
    "              \"叶问3\": [3, 2, 65, \"动作片\"],\n",
    "              \"伦敦陷落\": [2, 3, 55, \"动作片\"],\n",
    "              \"我的特工爷爷\": [6, 4, 21, \"动作片\"],\n",
    "              \"奔爱\": [7, 46, 4, \"爱情片\"],\n",
    "              \"夜孔雀\": [9, 39, 8, \"爱情片\"],\n",
    "              \"代理情人\": [9, 38, 2, \"爱情片\"],\n",
    "              \"新步步惊心\": [8, 34, 17, \"爱情片\"]}"
   ],
   "outputs": [],
   "metadata": {}
  },
  {
   "cell_type": "code",
   "execution_count": 3,
   "source": [
    "target = {\"唐人街探案\": [23, 3, 17, \"？片\"]}"
   ],
   "outputs": [],
   "metadata": {}
  },
  {
   "cell_type": "code",
   "execution_count": 4,
   "source": [
    "# 先求所有的距离\n",
    "x = [23, 3, 17]\n",
    "KNN = []\n",
    "for key, v in movie_data.items():\n",
    "    # 欧式距离\n",
    "    d = math.sqrt((x[0] - v[0]) ** 2 + (x[1] - v[1]) ** 2 + (x[2] - v[2]) ** 2)\n",
    "    KNN.append([key, round(d, 2)])\n",
    "print(KNN)\n"
   ],
   "outputs": [
    {
     "output_type": "stream",
     "name": "stdout",
     "text": [
      "[['宝贝当家', 23.43], ['美人鱼', 18.55], ['澳门风云3', 32.14], ['功夫熊猫3', 21.47], ['谍影重重', 43.87], ['叶问3', 52.01], ['伦敦陷落', 43.42], ['我的特工爷爷', 17.49], ['奔爱', 47.69], ['夜孔雀', 39.66], ['代理情人', 40.57], ['新步步惊心', 34.44]]\n"
     ]
    }
   ],
   "metadata": {}
  },
  {
   "cell_type": "code",
   "execution_count": 39,
   "source": [
    "x = [23, 3, 17]\n",
    "data = []\n",
    "for val in movie_data.values():\n",
    "    data.append(val[:3])\n",
    "\n",
    "data = np.array(data) #N*3\n",
    "x = np.expand_dims(x,0).repeat(data.shape[0],axis=0)\n",
    "(np.sum((x-data)**2,1))**0.5"
   ],
   "outputs": [
    {
     "output_type": "execute_result",
     "data": {
      "text/plain": [
       "array([23.43074903, 18.54723699, 32.14031736, 21.47091055, 43.87482194,\n",
       "       52.0096145 , 43.41658669, 17.49285568, 47.68647607, 39.66106403,\n",
       "       40.57092555, 34.43835072])"
      ]
     },
     "metadata": {},
     "execution_count": 39
    }
   ],
   "metadata": {}
  },
  {
   "cell_type": "code",
   "execution_count": 14,
   "source": [
    "# 按距离排序\n",
    "KNN.sort(key=lambda dis: dis[1])\n",
    "# K值取5\n",
    "KNN=KNN[:5]\n",
    "labels = {\"喜剧片\":0,\"动作片\":0,\"爱情片\":0}\n",
    "for s in KNN:\n",
    "    label = movie_data[s[0]]\n",
    "    labels[label[3]] += 1\n",
    "labels =sorted(labels.items(),key=lambda l: l[1],reverse=True)\n",
    "print(labels,labels[0][0],sep='\\n')\n"
   ],
   "outputs": [
    {
     "output_type": "stream",
     "name": "stdout",
     "text": [
      "[('喜剧片', 4), ('动作片', 1), ('爱情片', 0)]\n",
      "喜剧片\n"
     ]
    }
   ],
   "metadata": {}
  },
  {
   "cell_type": "code",
   "execution_count": null,
   "source": [],
   "outputs": [],
   "metadata": {}
  }
 ],
 "metadata": {
  "orig_nbformat": 4,
  "language_info": {
   "name": "python",
   "version": "3.7.10",
   "mimetype": "text/x-python",
   "codemirror_mode": {
    "name": "ipython",
    "version": 3
   },
   "pygments_lexer": "ipython3",
   "nbconvert_exporter": "python",
   "file_extension": ".py"
  },
  "kernelspec": {
   "name": "python3",
   "display_name": "Python 3.7.10 64-bit ('pytorch': conda)"
  },
  "interpreter": {
   "hash": "9e70dc97bbfb2beb47a14e6ae352171ec891a43b96247de6b40b0e00535214b6"
  }
 },
 "nbformat": 4,
 "nbformat_minor": 2
}